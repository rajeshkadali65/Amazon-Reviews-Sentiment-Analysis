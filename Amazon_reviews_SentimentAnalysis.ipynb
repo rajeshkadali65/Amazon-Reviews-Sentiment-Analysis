{
  "cells": [
    {
      "cell_type": "code",
      "execution_count": 58,
      "metadata": {
        "colab": {},
        "colab_type": "code",
        "id": "XMVmRAixWAGH"
      },
      "outputs": [],
      "source": [
        "url=\"https://www.amazon.in/Apple-MME73HN-A-AirPods-3rd-Generation/product-reviews/B09JRDN6PL/ref=cm_cr_dp_d_show_all_btm?ie=UTF8&reviewerType=all_reviews\""
      ]
    },
    {
      "cell_type": "code",
      "execution_count": 59,
      "metadata": {},
      "outputs": [
        {
          "name": "stdout",
          "output_type": "stream",
          "text": [
            "Requirement already satisfied: requests in c:\\users\\hasin\\appdata\\local\\programs\\python\\python312\\lib\\site-packages (2.32.3)\n",
            "Requirement already satisfied: charset-normalizer<4,>=2 in c:\\users\\hasin\\appdata\\local\\programs\\python\\python312\\lib\\site-packages (from requests) (3.3.2)\n",
            "Requirement already satisfied: idna<4,>=2.5 in c:\\users\\hasin\\appdata\\local\\programs\\python\\python312\\lib\\site-packages (from requests) (3.7)\n",
            "Requirement already satisfied: urllib3<3,>=1.21.1 in c:\\users\\hasin\\appdata\\local\\programs\\python\\python312\\lib\\site-packages (from requests) (2.2.2)\n",
            "Requirement already satisfied: certifi>=2017.4.17 in c:\\users\\hasin\\appdata\\local\\programs\\python\\python312\\lib\\site-packages (from requests) (2024.7.4)\n",
            "Note: you may need to restart the kernel to use updated packages.\n"
          ]
        }
      ],
      "source": [
        "pip install requests\n"
      ]
    },
    {
      "cell_type": "code",
      "execution_count": 114,
      "metadata": {},
      "outputs": [
        {
          "name": "stdout",
          "output_type": "stream",
          "text": [
            "Requirement already satisfied: bs4 in c:\\users\\hasin\\appdata\\local\\programs\\python\\python312\\lib\\site-packages (0.0.2)\n",
            "Requirement already satisfied: beautifulsoup4 in c:\\users\\hasin\\appdata\\local\\programs\\python\\python312\\lib\\site-packages (from bs4) (4.12.3)\n",
            "Requirement already satisfied: soupsieve>1.2 in c:\\users\\hasin\\appdata\\local\\programs\\python\\python312\\lib\\site-packages (from beautifulsoup4->bs4) (2.5)\n",
            "Note: you may need to restart the kernel to use updated packages.\n"
          ]
        }
      ],
      "source": [
        "pip install bs4"
      ]
    },
    {
      "cell_type": "code",
      "execution_count": 61,
      "metadata": {
        "colab": {},
        "colab_type": "code",
        "id": "gVBXdayxXPDQ"
      },
      "outputs": [],
      "source": [
        "import requests  ## Loads the Url mentione, it hits the Url and gets the status code whether website is working or not, or url is correct or not\n",
        "from bs4 import BeautifulSoup  ## Library used for Web Scraping"
      ]
    },
    {
      "cell_type": "code",
      "execution_count": 62,
      "metadata": {
        "colab": {},
        "colab_type": "code",
        "id": "iJ7MibKuXcmN"
      },
      "outputs": [],
      "source": [
        "page = requests.get(url)"
      ]
    },
    {
      "cell_type": "code",
      "execution_count": 63,
      "metadata": {
        "colab": {
          "base_uri": "https://localhost:8080/",
          "height": 34
        },
        "colab_type": "code",
        "id": "V86J-WOHYFT7",
        "outputId": "6d6cdf3f-4ae4-43fb-93aa-1ec643632456"
      },
      "outputs": [
        {
          "data": {
            "text/plain": [
              "<Response [200]>"
            ]
          },
          "execution_count": 63,
          "metadata": {},
          "output_type": "execute_result"
        }
      ],
      "source": [
        "page   ## Success code is [200]"
      ]
    },
    {
      "cell_type": "code",
      "execution_count": 64,
      "metadata": {
        "colab": {
          "base_uri": "https://localhost:8080/",
          "height": 54
        },
        "colab_type": "code",
        "id": "BS8wHTKuYGli",
        "outputId": "329d4cf6-961d-47dc-b7bf-4c24748ffc61"
      },
      "outputs": [],
      "source": [
        "# page.content  ## Gives whole source code of the Url we mentioned"
      ]
    },
    {
      "cell_type": "code",
      "execution_count": 65,
      "metadata": {
        "colab": {},
        "colab_type": "code",
        "id": "bq6KnNcRYSdx"
      },
      "outputs": [],
      "source": [
        "soup = BeautifulSoup(page.content,'html.parser')"
      ]
    },
    {
      "cell_type": "code",
      "execution_count": null,
      "metadata": {
        "colab": {
          "base_uri": "https://localhost:8080/",
          "height": 1000
        },
        "colab_type": "code",
        "id": "6dyA1zKnYfnp",
        "outputId": "5d3e9766-8b4e-4826-df4e-9749ab896b5b"
      },
      "outputs": [],
      "source": [
        "print(soup.prettify())"
      ]
    },
    {
      "cell_type": "code",
      "execution_count": 67,
      "metadata": {
        "colab": {},
        "colab_type": "code",
        "id": "VLVa-8QgYspB"
      },
      "outputs": [],
      "source": [
        "\n",
        "\n",
        "names = soup.find_all('span', class_='a-profile-name')[2:]"
      ]
    },
    {
      "cell_type": "code",
      "execution_count": 68,
      "metadata": {
        "colab": {
          "base_uri": "https://localhost:8080/",
          "height": 187
        },
        "colab_type": "code",
        "id": "ntUm1gK5ZyXA",
        "outputId": "a60f309e-3293-4d7f-fd9a-61df7abb82fc"
      },
      "outputs": [
        {
          "data": {
            "text/plain": [
              "[<span class=\"a-profile-name\">RIZWAN SHAIKH</span>,\n",
              " <span class=\"a-profile-name\">RIZWAN SHAIKH</span>,\n",
              " <span class=\"a-profile-name\">Peter</span>,\n",
              " <span class=\"a-profile-name\">Peter</span>,\n",
              " <span class=\"a-profile-name\">Phutanen</span>,\n",
              " <span class=\"a-profile-name\">Sukhpreet Singh</span>,\n",
              " <span class=\"a-profile-name\">DR AJIT THOMAS </span>,\n",
              " <span class=\"a-profile-name\">Vishwa</span>,\n",
              " <span class=\"a-profile-name\">San</span>,\n",
              " <span class=\"a-profile-name\">Varun Narayan</span>,\n",
              " <span class=\"a-profile-name\">surya teja</span>,\n",
              " <span class=\"a-profile-name\">Deepjyoti</span>]"
            ]
          },
          "execution_count": 68,
          "metadata": {},
          "output_type": "execute_result"
        }
      ],
      "source": [
        "names"
      ]
    },
    {
      "cell_type": "code",
      "execution_count": 69,
      "metadata": {
        "colab": {
          "base_uri": "https://localhost:8080/",
          "height": 34
        },
        "colab_type": "code",
        "id": "xLKTY0y0ZzZ4",
        "outputId": "9601091c-17da-4e09-d228-e7d51b7e8e9f"
      },
      "outputs": [
        {
          "data": {
            "text/plain": [
              "12"
            ]
          },
          "execution_count": 69,
          "metadata": {},
          "output_type": "execute_result"
        }
      ],
      "source": [
        "len(names)"
      ]
    },
    {
      "cell_type": "code",
      "execution_count": 70,
      "metadata": {
        "colab": {},
        "colab_type": "code",
        "id": "Kb0F6AIaZ2Ig"
      },
      "outputs": [],
      "source": [
        "## Removing the tag part\n",
        "\n",
        "cust_name = []\n",
        "for i in range(0,len(names)): cust_name.append(names[i].get_text())\n",
        "\n"
      ]
    },
    {
      "cell_type": "code",
      "execution_count": 71,
      "metadata": {
        "colab": {
          "base_uri": "https://localhost:8080/",
          "height": 34
        },
        "colab_type": "code",
        "id": "Wuw9CcssaP2v",
        "outputId": "4f1ca175-104f-46d9-d4ac-77c2ec73fee0"
      },
      "outputs": [
        {
          "name": "stdout",
          "output_type": "stream",
          "text": [
            "['RIZWAN SHAIKH', 'RIZWAN SHAIKH', 'Peter', 'Peter', 'Phutanen', 'Sukhpreet Singh', 'DR AJIT THOMAS ', 'Vishwa', 'San', 'Varun Narayan', 'surya teja', 'Deepjyoti']\n"
          ]
        }
      ],
      "source": [
        "print(cust_name)"
      ]
    },
    {
      "cell_type": "code",
      "execution_count": 72,
      "metadata": {
        "colab": {
          "base_uri": "https://localhost:8080/",
          "height": 34
        },
        "colab_type": "code",
        "id": "h14i5v1QajHg",
        "outputId": "e3cbcb3b-ffe7-4549-860b-7978b90d2e99"
      },
      "outputs": [
        {
          "data": {
            "text/plain": [
              "12"
            ]
          },
          "execution_count": 72,
          "metadata": {},
          "output_type": "execute_result"
        }
      ],
      "source": [
        "len(cust_name)"
      ]
    },
    {
      "cell_type": "code",
      "execution_count": 73,
      "metadata": {
        "colab": {},
        "colab_type": "code",
        "id": "9RH1efVjamf_"
      },
      "outputs": [],
      "source": [
        "## Now Fetching the Star Rating\n",
        "\n",
        "stars = soup.find_all('span', class_='a-icon-alt')[3:]"
      ]
    },
    {
      "cell_type": "code",
      "execution_count": 74,
      "metadata": {
        "colab": {
          "base_uri": "https://localhost:8080/",
          "height": 54
        },
        "colab_type": "code",
        "id": "JfOGqXmtcpOC",
        "outputId": "5cdb838c-318a-4b01-fb1d-df41ff09da3f"
      },
      "outputs": [
        {
          "name": "stdout",
          "output_type": "stream",
          "text": [
            "[<span class=\"a-icon-alt\">5.0 out of 5 stars</span>, <span class=\"a-icon-alt\">5.0 out of 5 stars</span>, <span class=\"a-icon-alt\">5.0 out of 5 stars</span>, <span class=\"a-icon-alt\">5.0 out of 5 stars</span>, <span class=\"a-icon-alt\">4.0 out of 5 stars</span>, <span class=\"a-icon-alt\">5.0 out of 5 stars</span>, <span class=\"a-icon-alt\">1.0 out of 5 stars</span>, <span class=\"a-icon-alt\">5.0 out of 5 stars</span>, <span class=\"a-icon-alt\">5.0 out of 5 stars</span>, <span class=\"a-icon-alt\">5.0 out of 5 stars</span>, <span class=\"a-icon-alt\">4.0 out of 5 stars</span>, <span class=\"a-icon-alt\">4.0 out of 5 stars</span>]\n"
          ]
        }
      ],
      "source": [
        "print(stars)"
      ]
    },
    {
      "cell_type": "code",
      "execution_count": 75,
      "metadata": {
        "colab": {
          "base_uri": "https://localhost:8080/",
          "height": 34
        },
        "colab_type": "code",
        "id": "b8_UcznJcr0a",
        "outputId": "9a033e35-9c73-42b7-f829-d3ddc7c4b675"
      },
      "outputs": [
        {
          "data": {
            "text/plain": [
              "12"
            ]
          },
          "execution_count": 75,
          "metadata": {},
          "output_type": "execute_result"
        }
      ],
      "source": [
        "len(stars)"
      ]
    },
    {
      "cell_type": "code",
      "execution_count": 76,
      "metadata": {
        "colab": {},
        "colab_type": "code",
        "id": "GRc60tnvcySh"
      },
      "outputs": [],
      "source": [
        "cust_rating = []\n",
        "for i in range(0,len(stars)): cust_rating.append(stars[i].get_text())"
      ]
    },
    {
      "cell_type": "code",
      "execution_count": 77,
      "metadata": {
        "colab": {
          "base_uri": "https://localhost:8080/",
          "height": 54
        },
        "colab_type": "code",
        "id": "dChDxThTc8Se",
        "outputId": "2d6457d4-0aa3-40c1-8e25-281289efcb06"
      },
      "outputs": [
        {
          "name": "stdout",
          "output_type": "stream",
          "text": [
            "['5.0 out of 5 stars', '5.0 out of 5 stars', '5.0 out of 5 stars', '5.0 out of 5 stars', '4.0 out of 5 stars', '5.0 out of 5 stars', '1.0 out of 5 stars', '5.0 out of 5 stars', '5.0 out of 5 stars', '5.0 out of 5 stars', '4.0 out of 5 stars', '4.0 out of 5 stars']\n"
          ]
        }
      ],
      "source": [
        "print(cust_rating)"
      ]
    },
    {
      "cell_type": "code",
      "execution_count": 78,
      "metadata": {
        "colab": {},
        "colab_type": "code",
        "id": "309dZRqic_er"
      },
      "outputs": [],
      "source": [
        "## Fetching title\n",
        "\n",
        "title = soup.select('a.review-title span')"
      ]
    },
    {
      "cell_type": "code",
      "execution_count": 79,
      "metadata": {
        "colab": {
          "base_uri": "https://localhost:8080/",
          "height": 187
        },
        "colab_type": "code",
        "id": "jeuRhzt4dk6y",
        "outputId": "8298d8a4-8f4a-48bb-d0cf-f8a2d6f8342a"
      },
      "outputs": [
        {
          "name": "stdout",
          "output_type": "stream",
          "text": [
            "[<span class=\"a-icon-alt\">5.0 out of 5 stars</span>, <span class=\"a-letter-space\"></span>, <span>Awesome product sound quality</span>, <span class=\"a-icon-alt\">5.0 out of 5 stars</span>, <span class=\"a-letter-space\"></span>, <span>UNPOPULAR OPINION: THE BEST AIRPODS TO DATE.</span>, <span class=\"a-icon-alt\">4.0 out of 5 stars</span>, <span class=\"a-letter-space\"></span>, <span>Great with Apple eco system</span>, <span class=\"a-icon-alt\">5.0 out of 5 stars</span>, <span class=\"a-letter-space\"></span>, <span>Less Comfortable than Airpods 2</span>, <span class=\"a-icon-alt\">1.0 out of 5 stars</span>, <span class=\"a-letter-space\"></span>, <span>There's no noise cancellation in a 20k earphone. Get something else</span>, <span class=\"a-icon-alt\">5.0 out of 5 stars</span>, <span class=\"a-letter-space\"></span>, <span>Good</span>, <span class=\"a-icon-alt\">5.0 out of 5 stars</span>, <span class=\"a-letter-space\"></span>, <span>Enhanced Audio Experience: AirPods Gen 3</span>, <span class=\"a-icon-alt\">5.0 out of 5 stars</span>, <span class=\"a-letter-space\"></span>, <span>Awesome Quality</span>, <span class=\"a-icon-alt\">4.0 out of 5 stars</span>, <span class=\"a-letter-space\"></span>, <span>Superb</span>, <span class=\"a-icon-alt\">4.0 out of 5 stars</span>, <span class=\"a-letter-space\"></span>, <span>A good to have but not must have</span>]\n"
          ]
        }
      ],
      "source": [
        "print(title)"
      ]
    },
    {
      "cell_type": "code",
      "execution_count": 80,
      "metadata": {
        "colab": {},
        "colab_type": "code",
        "id": "iuAmFSaVd2mZ"
      },
      "outputs": [],
      "source": [
        "review_title = []\n",
        "for i in range(0,len(title)): review_title.append(title[i].get_text())"
      ]
    },
    {
      "cell_type": "code",
      "execution_count": 81,
      "metadata": {
        "colab": {
          "base_uri": "https://localhost:8080/",
          "height": 54
        },
        "colab_type": "code",
        "id": "3Dt3gDDKeEJh",
        "outputId": "80ebc1a9-8047-44fe-c0f7-22c0dfec9d46"
      },
      "outputs": [
        {
          "name": "stdout",
          "output_type": "stream",
          "text": [
            "['5.0 out of 5 stars', '', 'Awesome product sound quality', '5.0 out of 5 stars', '', 'UNPOPULAR OPINION: THE BEST AIRPODS TO DATE.', '4.0 out of 5 stars', '', 'Great with Apple eco system', '5.0 out of 5 stars', '', 'Less Comfortable than Airpods 2', '1.0 out of 5 stars', '', \"There's no noise cancellation in a 20k earphone. Get something else\", '5.0 out of 5 stars', '', 'Good', '5.0 out of 5 stars', '', 'Enhanced Audio Experience: AirPods Gen 3', '5.0 out of 5 stars', '', 'Awesome Quality', '4.0 out of 5 stars', '', 'Superb', '4.0 out of 5 stars', '', 'A good to have but not must have']\n"
          ]
        }
      ],
      "source": [
        "print(review_title)"
      ]
    },
    {
      "cell_type": "code",
      "execution_count": 82,
      "metadata": {
        "colab": {},
        "colab_type": "code",
        "id": "ZL3mflGGeHX2"
      },
      "outputs": [],
      "source": [
        "## Fetching Date\n",
        "\n",
        "dates = soup.select('span.review-date')[2:]"
      ]
    },
    {
      "cell_type": "code",
      "execution_count": 83,
      "metadata": {
        "colab": {
          "base_uri": "https://localhost:8080/",
          "height": 54
        },
        "colab_type": "code",
        "id": "cP2oHb3NewvV",
        "outputId": "1824a19f-af51-43e2-b0c5-4afa7f2c9380"
      },
      "outputs": [
        {
          "name": "stdout",
          "output_type": "stream",
          "text": [
            "[<span class=\"a-size-base a-color-secondary review-date\" data-hook=\"review-date\">Reviewed in India on 25 July 2024</span>, <span class=\"a-size-base a-color-secondary review-date\" data-hook=\"review-date\">Reviewed in India on 2 October 2023</span>, <span class=\"a-size-base a-color-secondary review-date\" data-hook=\"review-date\">Reviewed in India on 26 May 2022</span>, <span class=\"a-size-base a-color-secondary review-date\" data-hook=\"review-date\">Reviewed in India on 27 June 2022</span>, <span class=\"a-size-base a-color-secondary review-date\" data-hook=\"review-date\">Reviewed in India on 15 July 2024</span>, <span class=\"a-size-base a-color-secondary review-date\" data-hook=\"review-date\">Reviewed in India on 28 July 2024</span>, <span class=\"a-size-base a-color-secondary review-date\" data-hook=\"review-date\">Reviewed in India on 31 October 2023</span>, <span class=\"a-size-base a-color-secondary review-date\" data-hook=\"review-date\">Reviewed in India on 21 November 2023</span>, <span class=\"a-size-base a-color-secondary review-date\" data-hook=\"review-date\">Reviewed in India on 12 May 2024</span>, <span class=\"a-size-base a-color-secondary review-date\" data-hook=\"review-date\">Reviewed in India on 16 November 2023</span>]\n"
          ]
        }
      ],
      "source": [
        "print(dates)"
      ]
    },
    {
      "cell_type": "code",
      "execution_count": 84,
      "metadata": {
        "colab": {},
        "colab_type": "code",
        "id": "f0X0-Nvqey-i"
      },
      "outputs": [],
      "source": [
        "rev_date = []\n",
        "for i in range(0,len(dates)): rev_date.append(dates[i].get_text())"
      ]
    },
    {
      "cell_type": "code",
      "execution_count": 85,
      "metadata": {
        "colab": {
          "base_uri": "https://localhost:8080/",
          "height": 54
        },
        "colab_type": "code",
        "id": "K3tTvqkJe-i2",
        "outputId": "fcc99e1b-6665-401a-830f-25210e29f355"
      },
      "outputs": [
        {
          "name": "stdout",
          "output_type": "stream",
          "text": [
            "['Reviewed in India on 25 July 2024', 'Reviewed in India on 2 October 2023', 'Reviewed in India on 26 May 2022', 'Reviewed in India on 27 June 2022', 'Reviewed in India on 15 July 2024', 'Reviewed in India on 28 July 2024', 'Reviewed in India on 31 October 2023', 'Reviewed in India on 21 November 2023', 'Reviewed in India on 12 May 2024', 'Reviewed in India on 16 November 2023']\n"
          ]
        }
      ],
      "source": [
        "print(rev_date)"
      ]
    },
    {
      "cell_type": "code",
      "execution_count": 86,
      "metadata": {
        "colab": {},
        "colab_type": "code",
        "id": "HQ071P0afAd6"
      },
      "outputs": [],
      "source": [
        "## Fetching the main review\n",
        "\n",
        "details = soup.select('span.review-text-content span')"
      ]
    },
    {
      "cell_type": "code",
      "execution_count": 87,
      "metadata": {
        "colab": {
          "base_uri": "https://localhost:8080/",
          "height": 34
        },
        "colab_type": "code",
        "id": "X_4K9DLEfahI",
        "outputId": "836694a5-68e2-4823-a7e6-06b696c84a48"
      },
      "outputs": [
        {
          "data": {
            "text/plain": [
              "12"
            ]
          },
          "execution_count": 87,
          "metadata": {},
          "output_type": "execute_result"
        }
      ],
      "source": [
        "len(details)"
      ]
    },
    {
      "cell_type": "code",
      "execution_count": 88,
      "metadata": {
        "colab": {
          "base_uri": "https://localhost:8080/",
          "height": 54
        },
        "colab_type": "code",
        "id": "CYMfl84Cfc0j",
        "outputId": "221ed4ad-e578-42fa-d2c2-c3faf7bb979d"
      },
      "outputs": [
        {
          "name": "stdout",
          "output_type": "stream",
          "text": [
            "[<span class=\"a-spinner a-spinner-medium cr-media-spinner\"></span>, <span class=\"a-color-inverse cr-media-error-msg\">\n",
            "                    The media could not be loaded.\n",
            "                </span>, <span>Sound quality are awesome and nice product</span>, <span>Airpods max: way too expensive, bulky, and hurts the ears after an hour.<br><br/>Beats solo3: expensive and hurts the ears after 40 minutes.<br/><br/>Airpods pro: has the rubber on the ends that annoy the ears (good for noise cancellation but not for long term use)<br/><br/>Airpods 2: perfect in everything except noise cancellation and sound quality. Battery backup could be better.<br/><br/>Airpods 3: brilliant in every way. Does not even feel like you have it in your ears. Packs a punch for its size and give better audio (spatial) as well as better battery backup. Does not have rubber tips which makes it the most comfortable earbuds to me. Worth the upgrade. Prefer this over the new pros which I tried briefly.</br></span>, <span>Apple has done it again with its 3rd Gen AirPods. The best feature and what works best with the Apple Ecosystem is the Spacial Music. Its truly an experience if one is into ardent music lover and has an Apple Ecosystem (IPhone/Mac) subscribed to Apple Music Lossless music.<br/>Clarity is music is very good, specially when you are listening to lossless music. The Separation of the instruments can easily be heard. But if one is a bass head, then this is not the one to go with. Sony or Bose is an better option. Also the clarity on calls including the mic is awesome.<br/><br/>Fits very well and can be used for long hours and no discomfort or pain felt.<br/>Battery life is good so far. I have been charging once in 2 days for a daily usage of upto 6-8 hours<br/><br/>The only negative about is that it done not filter any outside noise. Of course this does not have noise cancellation feature built-in, bust was expecting some amount of external noise being filtered out when listening to music. It fails there.<br/><br/>So if you are mostly in an Apple Ecosystem and not a Bass Head, and Noise Cancellation is not your priority, then AirPods is the way to go</span>, <span>Are you satisfied with airpods 2 with fit and comfort? If yes then don’t buy Airpods 3 without trying them on.<br/><br/>I have seen lot many people saying that Airpods 3 are not as comfortable as airpods 2. Almost 90% of them.<br/><br/>I personally used Airpods 2 for more than 2 years and I am Sardar guy and used them while wearing turban. Never had any issue.<br/><br/>But Airpods 3 were uncomfortable and painful for atleast week or so. I even decided to return them. But then I thought let’s use them.<br/><br/>In terms of Audio and User experience.<br/><br/>I was equally satisfied with Airpods 2.<br/>But as for as for user experience, Airpods 3 are better. Because they connect faster while in between the call or media play. Airpods sometimes used to miss connecting but it isn’t the case with 3.<br/><br/>Now comes to Spatial Audio. If you don’t know exactly what it is. It is Dolby atmos.<br/><br/>Spatial Audio has made my Netflix watching experience best. Like if there is raining in the movie, I will feel like it’s raining in my room as well.<br/><br/>Airpods 2 don’t have spatial audio but they are also good at audio in movies and will do 70% of the work as of 3.<br/><br/>So u won’t miss Spatial Audio if you have Never used it. But I would say it’s worth it.<br/><br/>So overall Airpods 3 are good product except fitting.<br/><br/>They don’t fit well for almost everyone. So better to go for airpods 2. And if u definitely wanna go for Airpods 3, make sure you try them on for atleast half an hour or so. And also try laughing while wearing them, yes the reason I said laughing, they way my face muscles move while laughing, right earbud comes off which is annoying.<br/><br/>So just pick Airpods 2 and save up some money at the end of the day because fitting is definitely an issue. Baaki audio is on point no doubt</span>, <span>I can't believe this doesn't have active noise cancellation.  That's a feature you get in 5K earphones these days. Apple thinks it can charge their customers the earth for their products. and those poor sods will lap them all up in the name of 'ecosystem'. What a scandal</span>, <span>All Good</span>, <span>The AirPods Gen 3 has a notable upgrade, delivering improved sound, a secure fit, and seamless connectivity. Despite the absence of active noise cancellation, their integration with the Apple ecosystem and added features like spatial audio and Adaptive EQ make them a worthwhile investment for Apple fans and casual users.<br/><br/>It is compatible with windows laptop as well.</span>, <span>This product has an excellent sound quality and outstanding build the case is also worth it. We can use aThis product has a excellent sound quality and outstanding build. The case is also worth it. We can use a silicone cover for the case if required or any authentic product.</span>, <span>Earpods were superb sound quality was very Good but if we use for long time ears are getting pain due to lack of buds</span>, <span>Pros<br/>+ Good Sound clarity<br/>+ Easy pairing<br/>+ Good for Music<br/>Cons<br/>- Not for calls<br/>- Zero Noise Cancellation<br/>- Cant customize tap<br/>- Not recommended for calls</span>]\n"
          ]
        }
      ],
      "source": [
        "print(details)"
      ]
    },
    {
      "cell_type": "code",
      "execution_count": 89,
      "metadata": {
        "colab": {},
        "colab_type": "code",
        "id": "3LpD0FFnfpDI"
      },
      "outputs": [],
      "source": [
        "rev_body = []\n",
        "for i in range(0,len(details)): rev_body.append(details[i].get_text())"
      ]
    },
    {
      "cell_type": "code",
      "execution_count": 90,
      "metadata": {
        "colab": {
          "base_uri": "https://localhost:8080/",
          "height": 54
        },
        "colab_type": "code",
        "id": "bNsCsOhnf42_",
        "outputId": "8e4e8678-41f7-4c7c-f3cb-c30f2d0c640f"
      },
      "outputs": [
        {
          "name": "stdout",
          "output_type": "stream",
          "text": [
            "['', '\\n                    The media could not be loaded.\\n                ', 'Sound quality are awesome and nice product', 'Airpods max: way too expensive, bulky, and hurts the ears after an hour.Beats solo3: expensive and hurts the ears after 40 minutes.Airpods pro: has the rubber on the ends that annoy the ears (good for noise cancellation but not for long term use)Airpods 2: perfect in everything except noise cancellation and sound quality. Battery backup could be better.Airpods 3: brilliant in every way. Does not even feel like you have it in your ears. Packs a punch for its size and give better audio (spatial) as well as better battery backup. Does not have rubber tips which makes it the most comfortable earbuds to me. Worth the upgrade. Prefer this over the new pros which I tried briefly.', 'Apple has done it again with its 3rd Gen AirPods. The best feature and what works best with the Apple Ecosystem is the Spacial Music. Its truly an experience if one is into ardent music lover and has an Apple Ecosystem (IPhone/Mac) subscribed to Apple Music Lossless music.Clarity is music is very good, specially when you are listening to lossless music. The Separation of the instruments can easily be heard. But if one is a bass head, then this is not the one to go with. Sony or Bose is an better option. Also the clarity on calls including the mic is awesome.Fits very well and can be used for long hours and no discomfort or pain felt.Battery life is good so far. I have been charging once in 2 days for a daily usage of upto 6-8 hoursThe only negative about is that it done not filter any outside noise. Of course this does not have noise cancellation feature built-in, bust was expecting some amount of external noise being filtered out when listening to music. It fails there.So if you are mostly in an Apple Ecosystem and not a Bass Head, and Noise Cancellation is not your priority, then AirPods is the way to go', 'Are you satisfied with airpods 2 with fit and comfort? If yes then don’t buy Airpods 3 without trying them on.I have seen lot many people saying that Airpods 3 are not as comfortable as airpods 2. Almost 90% of them.I personally used Airpods 2 for more than 2 years and I am Sardar guy and used them while wearing turban. Never had any issue.But Airpods 3 were uncomfortable and painful for atleast week or so. I even decided to return them. But then I thought let’s use them.In terms of Audio and User experience.I was equally satisfied with Airpods 2.But as for as for user experience, Airpods 3 are better. Because they connect faster while in between the call or media play. Airpods sometimes used to miss connecting but it isn’t the case with 3.Now comes to Spatial Audio. If you don’t know exactly what it is. It is Dolby atmos.Spatial Audio has made my Netflix watching experience best. Like if there is raining in the movie, I will feel like it’s raining in my room as well.Airpods 2 don’t have spatial audio but they are also good at audio in movies and will do 70% of the work as of 3.So u won’t miss Spatial Audio if you have Never used it. But I would say it’s worth it.So overall Airpods 3 are good product except fitting.They don’t fit well for almost everyone. So better to go for airpods 2. And if u definitely wanna go for Airpods 3, make sure you try them on for atleast half an hour or so. And also try laughing while wearing them, yes the reason I said laughing, they way my face muscles move while laughing, right earbud comes off which is annoying.So just pick Airpods 2 and save up some money at the end of the day because fitting is definitely an issue. Baaki audio is on point no doubt', \"I can't believe this doesn't have active noise cancellation.  That's a feature you get in 5K earphones these days. Apple thinks it can charge their customers the earth for their products. and those poor sods will lap them all up in the name of 'ecosystem'. What a scandal\", 'All Good', 'The AirPods Gen 3 has a notable upgrade, delivering improved sound, a secure fit, and seamless connectivity. Despite the absence of active noise cancellation, their integration with the Apple ecosystem and added features like spatial audio and Adaptive EQ make them a worthwhile investment for Apple fans and casual users.It is compatible with windows laptop as well.', 'This product has an excellent sound quality and outstanding build the case is also worth it. We can use aThis product has a excellent sound quality and outstanding build. The case is also worth it. We can use a silicone cover for the case if required or any authentic product.', 'Earpods were superb sound quality was very Good but if we use for long time ears are getting pain due to lack of buds', 'Pros+ Good Sound clarity+ Easy pairing+ Good for MusicCons- Not for calls- Zero Noise Cancellation- Cant customize tap- Not recommended for calls']\n"
          ]
        }
      ],
      "source": [
        "print(rev_body)"
      ]
    },
    {
      "cell_type": "code",
      "execution_count": 91,
      "metadata": {
        "colab": {},
        "colab_type": "code",
        "id": "PL8a4Worf8VG"
      },
      "outputs": [],
      "source": [
        "## Saving the data in the Data Frame\n",
        "\n",
        "import pandas as pd"
      ]
    },
    {
      "cell_type": "code",
      "execution_count": 92,
      "metadata": {
        "colab": {},
        "colab_type": "code",
        "id": "n9Tcv3TRgUgR"
      },
      "outputs": [],
      "source": [
        "df = pd.DataFrame()"
      ]
    },
    {
      "cell_type": "code",
      "execution_count": 93,
      "metadata": {
        "colab": {},
        "colab_type": "code",
        "id": "dTgoQepUgZz7"
      },
      "outputs": [
        {
          "name": "stdout",
          "output_type": "stream",
          "text": [
            "                        Date of Review  Customer Name     Customer Rating  \\\n",
            "0    Reviewed in India on 25 July 2024  RIZWAN SHAIKH  5.0 out of 5 stars   \n",
            "1  Reviewed in India on 2 October 2023  RIZWAN SHAIKH  5.0 out of 5 stars   \n",
            "2     Reviewed in India on 26 May 2022          Peter  5.0 out of 5 stars   \n",
            "3    Reviewed in India on 27 June 2022          Peter  5.0 out of 5 stars   \n",
            "4    Reviewed in India on 15 July 2024       Phutanen  4.0 out of 5 stars   \n",
            "\n",
            "                    Review Title  \\\n",
            "0             5.0 out of 5 stars   \n",
            "1                                  \n",
            "2  Awesome product sound quality   \n",
            "3             5.0 out of 5 stars   \n",
            "4                                  \n",
            "\n",
            "                                             Reviews  \n",
            "0                                                     \n",
            "1  \\n                    The media could not be l...  \n",
            "2         Sound quality are awesome and nice product  \n",
            "3  Airpods max: way too expensive, bulky, and hur...  \n",
            "4  Apple has done it again with its 3rd Gen AirPo...  \n"
          ]
        }
      ],
      "source": [
        "min_length = min(len(cust_name), len(cust_rating), len(review_title), len(rev_body), len(rev_date))\n",
        "\n",
        "# Truncate all lists to the same length\n",
        "cust_name = cust_name[:min_length]\n",
        "cust_rating = cust_rating[:min_length]\n",
        "review_title = review_title[:min_length]\n",
        "rev_body = rev_body[:min_length]\n",
        "rev_date = rev_date[:min_length]\n",
        "\n",
        "# Create the DataFrame\n",
        "df = pd.DataFrame({\n",
        "    \"Date of Review\": rev_date,\n",
        "    \"Customer Name\": cust_name,\n",
        "    \"Customer Rating\": cust_rating,\n",
        "    \"Review Title\": review_title,\n",
        "    \"Reviews\": rev_body\n",
        "})\n",
        "\n",
        "print(df.head())"
      ]
    },
    {
      "cell_type": "code",
      "execution_count": 94,
      "metadata": {
        "colab": {},
        "colab_type": "code",
        "id": "JvO1URDihM3g"
      },
      "outputs": [],
      "source": [
        "df.to_csv(\"reviews.csv\")"
      ]
    },
    {
      "cell_type": "code",
      "execution_count": 95,
      "metadata": {
        "colab": {
          "base_uri": "https://localhost:8080/",
          "height": 359
        },
        "colab_type": "code",
        "id": "zBFslu3ihZoz",
        "outputId": "5e15c191-6a25-46f1-cb92-701a6710ec84"
      },
      "outputs": [
        {
          "data": {
            "text/html": [
              "<div>\n",
              "<style scoped>\n",
              "    .dataframe tbody tr th:only-of-type {\n",
              "        vertical-align: middle;\n",
              "    }\n",
              "\n",
              "    .dataframe tbody tr th {\n",
              "        vertical-align: top;\n",
              "    }\n",
              "\n",
              "    .dataframe thead th {\n",
              "        text-align: right;\n",
              "    }\n",
              "</style>\n",
              "<table border=\"1\" class=\"dataframe\">\n",
              "  <thead>\n",
              "    <tr style=\"text-align: right;\">\n",
              "      <th></th>\n",
              "      <th>Date of Review</th>\n",
              "      <th>Customer Name</th>\n",
              "      <th>Customer Rating</th>\n",
              "      <th>Review Title</th>\n",
              "      <th>Reviews</th>\n",
              "    </tr>\n",
              "  </thead>\n",
              "  <tbody>\n",
              "    <tr>\n",
              "      <th>0</th>\n",
              "      <td>Reviewed in India on 25 July 2024</td>\n",
              "      <td>RIZWAN SHAIKH</td>\n",
              "      <td>5.0 out of 5 stars</td>\n",
              "      <td>5.0 out of 5 stars</td>\n",
              "      <td></td>\n",
              "    </tr>\n",
              "    <tr>\n",
              "      <th>1</th>\n",
              "      <td>Reviewed in India on 2 October 2023</td>\n",
              "      <td>RIZWAN SHAIKH</td>\n",
              "      <td>5.0 out of 5 stars</td>\n",
              "      <td></td>\n",
              "      <td>\\n                    The media could not be l...</td>\n",
              "    </tr>\n",
              "    <tr>\n",
              "      <th>2</th>\n",
              "      <td>Reviewed in India on 26 May 2022</td>\n",
              "      <td>Peter</td>\n",
              "      <td>5.0 out of 5 stars</td>\n",
              "      <td>Awesome product sound quality</td>\n",
              "      <td>Sound quality are awesome and nice product</td>\n",
              "    </tr>\n",
              "    <tr>\n",
              "      <th>3</th>\n",
              "      <td>Reviewed in India on 27 June 2022</td>\n",
              "      <td>Peter</td>\n",
              "      <td>5.0 out of 5 stars</td>\n",
              "      <td>5.0 out of 5 stars</td>\n",
              "      <td>Airpods max: way too expensive, bulky, and hur...</td>\n",
              "    </tr>\n",
              "    <tr>\n",
              "      <th>4</th>\n",
              "      <td>Reviewed in India on 15 July 2024</td>\n",
              "      <td>Phutanen</td>\n",
              "      <td>4.0 out of 5 stars</td>\n",
              "      <td></td>\n",
              "      <td>Apple has done it again with its 3rd Gen AirPo...</td>\n",
              "    </tr>\n",
              "    <tr>\n",
              "      <th>5</th>\n",
              "      <td>Reviewed in India on 28 July 2024</td>\n",
              "      <td>Sukhpreet Singh</td>\n",
              "      <td>5.0 out of 5 stars</td>\n",
              "      <td>UNPOPULAR OPINION: THE BEST AIRPODS TO DATE.</td>\n",
              "      <td>Are you satisfied with airpods 2 with fit and ...</td>\n",
              "    </tr>\n",
              "    <tr>\n",
              "      <th>6</th>\n",
              "      <td>Reviewed in India on 31 October 2023</td>\n",
              "      <td>DR AJIT THOMAS</td>\n",
              "      <td>1.0 out of 5 stars</td>\n",
              "      <td>4.0 out of 5 stars</td>\n",
              "      <td>I can't believe this doesn't have active noise...</td>\n",
              "    </tr>\n",
              "    <tr>\n",
              "      <th>7</th>\n",
              "      <td>Reviewed in India on 21 November 2023</td>\n",
              "      <td>Vishwa</td>\n",
              "      <td>5.0 out of 5 stars</td>\n",
              "      <td></td>\n",
              "      <td>All Good</td>\n",
              "    </tr>\n",
              "    <tr>\n",
              "      <th>8</th>\n",
              "      <td>Reviewed in India on 12 May 2024</td>\n",
              "      <td>San</td>\n",
              "      <td>5.0 out of 5 stars</td>\n",
              "      <td>Great with Apple eco system</td>\n",
              "      <td>The AirPods Gen 3 has a notable upgrade, deliv...</td>\n",
              "    </tr>\n",
              "    <tr>\n",
              "      <th>9</th>\n",
              "      <td>Reviewed in India on 16 November 2023</td>\n",
              "      <td>Varun Narayan</td>\n",
              "      <td>5.0 out of 5 stars</td>\n",
              "      <td>5.0 out of 5 stars</td>\n",
              "      <td>This product has an excellent sound quality an...</td>\n",
              "    </tr>\n",
              "  </tbody>\n",
              "</table>\n",
              "</div>"
            ],
            "text/plain": [
              "                          Date of Review    Customer Name     Customer Rating  \\\n",
              "0      Reviewed in India on 25 July 2024    RIZWAN SHAIKH  5.0 out of 5 stars   \n",
              "1    Reviewed in India on 2 October 2023    RIZWAN SHAIKH  5.0 out of 5 stars   \n",
              "2       Reviewed in India on 26 May 2022            Peter  5.0 out of 5 stars   \n",
              "3      Reviewed in India on 27 June 2022            Peter  5.0 out of 5 stars   \n",
              "4      Reviewed in India on 15 July 2024         Phutanen  4.0 out of 5 stars   \n",
              "5      Reviewed in India on 28 July 2024  Sukhpreet Singh  5.0 out of 5 stars   \n",
              "6   Reviewed in India on 31 October 2023  DR AJIT THOMAS   1.0 out of 5 stars   \n",
              "7  Reviewed in India on 21 November 2023           Vishwa  5.0 out of 5 stars   \n",
              "8       Reviewed in India on 12 May 2024              San  5.0 out of 5 stars   \n",
              "9  Reviewed in India on 16 November 2023    Varun Narayan  5.0 out of 5 stars   \n",
              "\n",
              "                                   Review Title  \\\n",
              "0                            5.0 out of 5 stars   \n",
              "1                                                 \n",
              "2                 Awesome product sound quality   \n",
              "3                            5.0 out of 5 stars   \n",
              "4                                                 \n",
              "5  UNPOPULAR OPINION: THE BEST AIRPODS TO DATE.   \n",
              "6                            4.0 out of 5 stars   \n",
              "7                                                 \n",
              "8                   Great with Apple eco system   \n",
              "9                            5.0 out of 5 stars   \n",
              "\n",
              "                                             Reviews  \n",
              "0                                                     \n",
              "1  \\n                    The media could not be l...  \n",
              "2         Sound quality are awesome and nice product  \n",
              "3  Airpods max: way too expensive, bulky, and hur...  \n",
              "4  Apple has done it again with its 3rd Gen AirPo...  \n",
              "5  Are you satisfied with airpods 2 with fit and ...  \n",
              "6  I can't believe this doesn't have active noise...  \n",
              "7                                           All Good  \n",
              "8  The AirPods Gen 3 has a notable upgrade, deliv...  \n",
              "9  This product has an excellent sound quality an...  "
            ]
          },
          "execution_count": 95,
          "metadata": {},
          "output_type": "execute_result"
        }
      ],
      "source": [
        "df\n"
      ]
    },
    {
      "cell_type": "code",
      "execution_count": 96,
      "metadata": {
        "colab": {
          "base_uri": "https://localhost:8080/",
          "height": 51
        },
        "colab_type": "code",
        "id": "bZIhgazDidNV",
        "outputId": "dad41b54-51c8-4be8-96e1-a8339a3c9f1b"
      },
      "outputs": [
        {
          "name": "stderr",
          "output_type": "stream",
          "text": [
            "[nltk_data] Downloading package vader_lexicon to\n",
            "[nltk_data]     C:\\Users\\hasin\\AppData\\Roaming\\nltk_data...\n",
            "[nltk_data]   Package vader_lexicon is already up-to-date!\n"
          ]
        },
        {
          "data": {
            "text/plain": [
              "True"
            ]
          },
          "execution_count": 96,
          "metadata": {},
          "output_type": "execute_result"
        }
      ],
      "source": [
        "#### SENTIMENT ANALYSIS OF THE REVIEWS \n",
        "\n",
        "import nltk\n",
        "nltk.download('vader_lexicon')"
      ]
    },
    {
      "cell_type": "code",
      "execution_count": 97,
      "metadata": {
        "colab": {},
        "colab_type": "code",
        "id": "DyjBDCcQj6xt"
      },
      "outputs": [],
      "source": [
        "from nltk.sentiment.vader import  SentimentIntensityAnalyzer\n"
      ]
    },
    {
      "cell_type": "code",
      "execution_count": 98,
      "metadata": {
        "colab": {},
        "colab_type": "code",
        "id": "dMIXgwCNkAP2"
      },
      "outputs": [],
      "source": [
        "sia = SentimentIntensityAnalyzer()"
      ]
    },
    {
      "cell_type": "code",
      "execution_count": 99,
      "metadata": {
        "colab": {
          "base_uri": "https://localhost:8080/",
          "height": 34
        },
        "colab_type": "code",
        "id": "40kEjfqKkkf-",
        "outputId": "e806ef6b-eeee-4083-e36d-4d118c58bed3"
      },
      "outputs": [
        {
          "data": {
            "text/plain": [
              "{'neg': 0.279, 'neu': 0.721, 'pos': 0.0, 'compound': -0.4753}"
            ]
          },
          "execution_count": 99,
          "metadata": {},
          "output_type": "execute_result"
        }
      ],
      "source": [
        "sia.polarity_scores(\"This product is just a waste of money. Don't Buy!\") ## compound is below zero which shows the sentiment to be negative"
      ]
    },
    {
      "cell_type": "code",
      "execution_count": 100,
      "metadata": {
        "colab": {
          "base_uri": "https://localhost:8080/",
          "height": 34
        },
        "colab_type": "code",
        "id": "PRfKDvUHk2-W",
        "outputId": "556f9777-1695-44a0-a37e-eaa0f1287a69"
      },
      "outputs": [
        {
          "data": {
            "text/plain": [
              "{'neg': 0.0, 'neu': 0.609, 'pos': 0.391, 'compound': 0.431}"
            ]
          },
          "execution_count": 100,
          "metadata": {},
          "output_type": "execute_result"
        }
      ],
      "source": [
        "sia.polarity_scores(\"Good product. Nice quality but won't buy again.\") ## Compound is more than 0 which shows sentiment to be positive"
      ]
    },
    {
      "cell_type": "code",
      "execution_count": 101,
      "metadata": {
        "colab": {
          "base_uri": "https://localhost:8080/",
          "height": 34
        },
        "colab_type": "code",
        "id": "7hxCJRhDlBQS",
        "outputId": "9dd165ce-2b2b-4179-993d-685ee75a6c39"
      },
      "outputs": [
        {
          "data": {
            "text/plain": [
              "{'neg': 0.0, 'neu': 0.326, 'pos': 0.674, 'compound': 0.7351}"
            ]
          },
          "execution_count": 101,
          "metadata": {},
          "output_type": "execute_result"
        }
      ],
      "source": [
        "sia.polarity_scores(\"Amazing product. Value for money.\")  ## Highly positive"
      ]
    },
    {
      "cell_type": "code",
      "execution_count": 102,
      "metadata": {
        "colab": {
          "base_uri": "https://localhost:8080/",
          "height": 34
        },
        "colab_type": "code",
        "id": "suibDtWvlIkT",
        "outputId": "2c0e9566-52be-4e4e-e29f-535743b6ae6a"
      },
      "outputs": [
        {
          "data": {
            "text/plain": [
              "{'neg': 0.0, 'neu': 1.0, 'pos': 0.0, 'compound': 0.0}"
            ]
          },
          "execution_count": 102,
          "metadata": {},
          "output_type": "execute_result"
        }
      ],
      "source": [
        "sia.polarity_scores(\"just oaky\") ## compound shows 0 when an absolute 0 comes, it shows the sentiment to be neutral."
      ]
    },
    {
      "cell_type": "code",
      "execution_count": 103,
      "metadata": {
        "colab": {},
        "colab_type": "code",
        "id": "OjEu9_w1lkn1"
      },
      "outputs": [],
      "source": [
        "## Analysing the sentiment for the Scraped Data now.\n",
        "\n",
        "polarity_scores = []\n",
        "for i in range(0,len(rev_body)): \n",
        "   s = sia.polarity_scores(rev_body[i])\n",
        "   polarity_scores.append(s) "
      ]
    },
    {
      "cell_type": "code",
      "execution_count": 104,
      "metadata": {
        "colab": {
          "base_uri": "https://localhost:8080/",
          "height": 54
        },
        "colab_type": "code",
        "id": "9rtDe5EgmKBM",
        "outputId": "0d3835c2-8ed6-476a-bfb0-03fbbdad1701"
      },
      "outputs": [
        {
          "name": "stdout",
          "output_type": "stream",
          "text": [
            "[{'neg': 0.0, 'neu': 0.0, 'pos': 0.0, 'compound': 0.0}, {'neg': 0.0, 'neu': 1.0, 'pos': 0.0, 'compound': 0.0}, {'neg': 0.0, 'neu': 0.42, 'pos': 0.58, 'compound': 0.7845}, {'neg': 0.062, 'neu': 0.742, 'pos': 0.197, 'compound': 0.9723}, {'neg': 0.084, 'neu': 0.788, 'pos': 0.128, 'compound': 0.7562}, {'neg': 0.042, 'neu': 0.738, 'pos': 0.22, 'compound': 0.9968}, {'neg': 0.164, 'neu': 0.836, 'pos': 0.0, 'compound': -0.8052}, {'neg': 0.0, 'neu': 0.256, 'pos': 0.744, 'compound': 0.4404}, {'neg': 0.0, 'neu': 0.698, 'pos': 0.302, 'compound': 0.9477}, {'neg': 0.0, 'neu': 0.686, 'pos': 0.314, 'compound': 0.9595}]\n"
          ]
        }
      ],
      "source": [
        "print(polarity_scores)"
      ]
    },
    {
      "cell_type": "code",
      "execution_count": 105,
      "metadata": {
        "colab": {},
        "colab_type": "code",
        "id": "YKxzfdHvm8AQ"
      },
      "outputs": [],
      "source": [
        "## Taking out the positive review \n",
        "\n",
        "score = []\n",
        "for i in range(0,len(polarity_scores)):\n",
        "  c = polarity_scores[i]['compound']\n",
        "  if c > 0:\n",
        "   score.append(\"Positive\")\n",
        "  elif c == 0:\n",
        "   score.append(\"Neutral\")\n",
        "  else:\n",
        "   score.append(\"Negative\")\n"
      ]
    },
    {
      "cell_type": "code",
      "execution_count": 106,
      "metadata": {
        "colab": {
          "base_uri": "https://localhost:8080/",
          "height": 34
        },
        "colab_type": "code",
        "id": "RuUGzKjxoRaj",
        "outputId": "53daef40-a909-4c0e-c391-4c0f6c93c1cf"
      },
      "outputs": [
        {
          "name": "stdout",
          "output_type": "stream",
          "text": [
            "['Neutral', 'Neutral', 'Positive', 'Positive', 'Positive', 'Positive', 'Negative', 'Positive', 'Positive', 'Positive']\n"
          ]
        }
      ],
      "source": [
        "print(score)"
      ]
    },
    {
      "cell_type": "code",
      "execution_count": 107,
      "metadata": {
        "colab": {},
        "colab_type": "code",
        "id": "3fAgpOHeopUB"
      },
      "outputs": [],
      "source": [
        "## Adding this score to the DataFrame\n",
        "\n",
        "df[\"Score\"] = score"
      ]
    },
    {
      "cell_type": "code",
      "execution_count": 108,
      "metadata": {
        "colab": {
          "base_uri": "https://localhost:8080/",
          "height": 359
        },
        "colab_type": "code",
        "id": "9PrKtt1vo6qX",
        "outputId": "791014ec-e841-4034-adde-e0184ea41561"
      },
      "outputs": [
        {
          "data": {
            "text/html": [
              "<div>\n",
              "<style scoped>\n",
              "    .dataframe tbody tr th:only-of-type {\n",
              "        vertical-align: middle;\n",
              "    }\n",
              "\n",
              "    .dataframe tbody tr th {\n",
              "        vertical-align: top;\n",
              "    }\n",
              "\n",
              "    .dataframe thead th {\n",
              "        text-align: right;\n",
              "    }\n",
              "</style>\n",
              "<table border=\"1\" class=\"dataframe\">\n",
              "  <thead>\n",
              "    <tr style=\"text-align: right;\">\n",
              "      <th></th>\n",
              "      <th>Date of Review</th>\n",
              "      <th>Customer Name</th>\n",
              "      <th>Customer Rating</th>\n",
              "      <th>Review Title</th>\n",
              "      <th>Reviews</th>\n",
              "      <th>Score</th>\n",
              "    </tr>\n",
              "  </thead>\n",
              "  <tbody>\n",
              "    <tr>\n",
              "      <th>0</th>\n",
              "      <td>Reviewed in India on 25 July 2024</td>\n",
              "      <td>RIZWAN SHAIKH</td>\n",
              "      <td>5.0 out of 5 stars</td>\n",
              "      <td>5.0 out of 5 stars</td>\n",
              "      <td></td>\n",
              "      <td>Neutral</td>\n",
              "    </tr>\n",
              "    <tr>\n",
              "      <th>1</th>\n",
              "      <td>Reviewed in India on 2 October 2023</td>\n",
              "      <td>RIZWAN SHAIKH</td>\n",
              "      <td>5.0 out of 5 stars</td>\n",
              "      <td></td>\n",
              "      <td>\\n                    The media could not be l...</td>\n",
              "      <td>Neutral</td>\n",
              "    </tr>\n",
              "    <tr>\n",
              "      <th>2</th>\n",
              "      <td>Reviewed in India on 26 May 2022</td>\n",
              "      <td>Peter</td>\n",
              "      <td>5.0 out of 5 stars</td>\n",
              "      <td>Awesome product sound quality</td>\n",
              "      <td>Sound quality are awesome and nice product</td>\n",
              "      <td>Positive</td>\n",
              "    </tr>\n",
              "    <tr>\n",
              "      <th>3</th>\n",
              "      <td>Reviewed in India on 27 June 2022</td>\n",
              "      <td>Peter</td>\n",
              "      <td>5.0 out of 5 stars</td>\n",
              "      <td>5.0 out of 5 stars</td>\n",
              "      <td>Airpods max: way too expensive, bulky, and hur...</td>\n",
              "      <td>Positive</td>\n",
              "    </tr>\n",
              "    <tr>\n",
              "      <th>4</th>\n",
              "      <td>Reviewed in India on 15 July 2024</td>\n",
              "      <td>Phutanen</td>\n",
              "      <td>4.0 out of 5 stars</td>\n",
              "      <td></td>\n",
              "      <td>Apple has done it again with its 3rd Gen AirPo...</td>\n",
              "      <td>Positive</td>\n",
              "    </tr>\n",
              "    <tr>\n",
              "      <th>5</th>\n",
              "      <td>Reviewed in India on 28 July 2024</td>\n",
              "      <td>Sukhpreet Singh</td>\n",
              "      <td>5.0 out of 5 stars</td>\n",
              "      <td>UNPOPULAR OPINION: THE BEST AIRPODS TO DATE.</td>\n",
              "      <td>Are you satisfied with airpods 2 with fit and ...</td>\n",
              "      <td>Positive</td>\n",
              "    </tr>\n",
              "    <tr>\n",
              "      <th>6</th>\n",
              "      <td>Reviewed in India on 31 October 2023</td>\n",
              "      <td>DR AJIT THOMAS</td>\n",
              "      <td>1.0 out of 5 stars</td>\n",
              "      <td>4.0 out of 5 stars</td>\n",
              "      <td>I can't believe this doesn't have active noise...</td>\n",
              "      <td>Negative</td>\n",
              "    </tr>\n",
              "    <tr>\n",
              "      <th>7</th>\n",
              "      <td>Reviewed in India on 21 November 2023</td>\n",
              "      <td>Vishwa</td>\n",
              "      <td>5.0 out of 5 stars</td>\n",
              "      <td></td>\n",
              "      <td>All Good</td>\n",
              "      <td>Positive</td>\n",
              "    </tr>\n",
              "    <tr>\n",
              "      <th>8</th>\n",
              "      <td>Reviewed in India on 12 May 2024</td>\n",
              "      <td>San</td>\n",
              "      <td>5.0 out of 5 stars</td>\n",
              "      <td>Great with Apple eco system</td>\n",
              "      <td>The AirPods Gen 3 has a notable upgrade, deliv...</td>\n",
              "      <td>Positive</td>\n",
              "    </tr>\n",
              "    <tr>\n",
              "      <th>9</th>\n",
              "      <td>Reviewed in India on 16 November 2023</td>\n",
              "      <td>Varun Narayan</td>\n",
              "      <td>5.0 out of 5 stars</td>\n",
              "      <td>5.0 out of 5 stars</td>\n",
              "      <td>This product has an excellent sound quality an...</td>\n",
              "      <td>Positive</td>\n",
              "    </tr>\n",
              "  </tbody>\n",
              "</table>\n",
              "</div>"
            ],
            "text/plain": [
              "                          Date of Review    Customer Name     Customer Rating  \\\n",
              "0      Reviewed in India on 25 July 2024    RIZWAN SHAIKH  5.0 out of 5 stars   \n",
              "1    Reviewed in India on 2 October 2023    RIZWAN SHAIKH  5.0 out of 5 stars   \n",
              "2       Reviewed in India on 26 May 2022            Peter  5.0 out of 5 stars   \n",
              "3      Reviewed in India on 27 June 2022            Peter  5.0 out of 5 stars   \n",
              "4      Reviewed in India on 15 July 2024         Phutanen  4.0 out of 5 stars   \n",
              "5      Reviewed in India on 28 July 2024  Sukhpreet Singh  5.0 out of 5 stars   \n",
              "6   Reviewed in India on 31 October 2023  DR AJIT THOMAS   1.0 out of 5 stars   \n",
              "7  Reviewed in India on 21 November 2023           Vishwa  5.0 out of 5 stars   \n",
              "8       Reviewed in India on 12 May 2024              San  5.0 out of 5 stars   \n",
              "9  Reviewed in India on 16 November 2023    Varun Narayan  5.0 out of 5 stars   \n",
              "\n",
              "                                   Review Title  \\\n",
              "0                            5.0 out of 5 stars   \n",
              "1                                                 \n",
              "2                 Awesome product sound quality   \n",
              "3                            5.0 out of 5 stars   \n",
              "4                                                 \n",
              "5  UNPOPULAR OPINION: THE BEST AIRPODS TO DATE.   \n",
              "6                            4.0 out of 5 stars   \n",
              "7                                                 \n",
              "8                   Great with Apple eco system   \n",
              "9                            5.0 out of 5 stars   \n",
              "\n",
              "                                             Reviews     Score  \n",
              "0                                                      Neutral  \n",
              "1  \\n                    The media could not be l...   Neutral  \n",
              "2         Sound quality are awesome and nice product  Positive  \n",
              "3  Airpods max: way too expensive, bulky, and hur...  Positive  \n",
              "4  Apple has done it again with its 3rd Gen AirPo...  Positive  \n",
              "5  Are you satisfied with airpods 2 with fit and ...  Positive  \n",
              "6  I can't believe this doesn't have active noise...  Negative  \n",
              "7                                           All Good  Positive  \n",
              "8  The AirPods Gen 3 has a notable upgrade, deliv...  Positive  \n",
              "9  This product has an excellent sound quality an...  Positive  "
            ]
          },
          "execution_count": 108,
          "metadata": {},
          "output_type": "execute_result"
        }
      ],
      "source": [
        "df"
      ]
    },
    {
      "cell_type": "code",
      "execution_count": 109,
      "metadata": {
        "colab": {},
        "colab_type": "code",
        "id": "ycV28O7Vo7ia"
      },
      "outputs": [],
      "source": [
        "## Piechart of positive, negative and neutral reviews.\n",
        "\n",
        "import matplotlib.pyplot as plt"
      ]
    },
    {
      "cell_type": "code",
      "execution_count": 110,
      "metadata": {
        "colab": {},
        "colab_type": "code",
        "id": "cFOZ72zYpb1e"
      },
      "outputs": [],
      "source": [
        "import matplotlib.patches as mpatches"
      ]
    },
    {
      "cell_type": "code",
      "execution_count": 111,
      "metadata": {
        "colab": {
          "base_uri": "https://localhost:8080/",
          "height": 359
        },
        "colab_type": "code",
        "id": "8LYDu6GsttdS",
        "outputId": "914281bf-4188-4242-a8f1-baecda64cd64"
      },
      "outputs": [
        {
          "data": {
            "text/html": [
              "<div>\n",
              "<style scoped>\n",
              "    .dataframe tbody tr th:only-of-type {\n",
              "        vertical-align: middle;\n",
              "    }\n",
              "\n",
              "    .dataframe tbody tr th {\n",
              "        vertical-align: top;\n",
              "    }\n",
              "\n",
              "    .dataframe thead th {\n",
              "        text-align: right;\n",
              "    }\n",
              "</style>\n",
              "<table border=\"1\" class=\"dataframe\">\n",
              "  <thead>\n",
              "    <tr style=\"text-align: right;\">\n",
              "      <th></th>\n",
              "      <th>Date of Review</th>\n",
              "      <th>Customer Name</th>\n",
              "      <th>Customer Rating</th>\n",
              "      <th>Review Title</th>\n",
              "      <th>Reviews</th>\n",
              "      <th>Score</th>\n",
              "    </tr>\n",
              "  </thead>\n",
              "  <tbody>\n",
              "    <tr>\n",
              "      <th>0</th>\n",
              "      <td>Reviewed in India on 25 July 2024</td>\n",
              "      <td>RIZWAN SHAIKH</td>\n",
              "      <td>5.0 out of 5 stars</td>\n",
              "      <td>5.0 out of 5 stars</td>\n",
              "      <td></td>\n",
              "      <td>Neutral</td>\n",
              "    </tr>\n",
              "    <tr>\n",
              "      <th>1</th>\n",
              "      <td>Reviewed in India on 2 October 2023</td>\n",
              "      <td>RIZWAN SHAIKH</td>\n",
              "      <td>5.0 out of 5 stars</td>\n",
              "      <td></td>\n",
              "      <td>\\n                    The media could not be l...</td>\n",
              "      <td>Neutral</td>\n",
              "    </tr>\n",
              "    <tr>\n",
              "      <th>2</th>\n",
              "      <td>Reviewed in India on 26 May 2022</td>\n",
              "      <td>Peter</td>\n",
              "      <td>5.0 out of 5 stars</td>\n",
              "      <td>Awesome product sound quality</td>\n",
              "      <td>Sound quality are awesome and nice product</td>\n",
              "      <td>Positive</td>\n",
              "    </tr>\n",
              "    <tr>\n",
              "      <th>3</th>\n",
              "      <td>Reviewed in India on 27 June 2022</td>\n",
              "      <td>Peter</td>\n",
              "      <td>5.0 out of 5 stars</td>\n",
              "      <td>5.0 out of 5 stars</td>\n",
              "      <td>Airpods max: way too expensive, bulky, and hur...</td>\n",
              "      <td>Positive</td>\n",
              "    </tr>\n",
              "    <tr>\n",
              "      <th>4</th>\n",
              "      <td>Reviewed in India on 15 July 2024</td>\n",
              "      <td>Phutanen</td>\n",
              "      <td>4.0 out of 5 stars</td>\n",
              "      <td></td>\n",
              "      <td>Apple has done it again with its 3rd Gen AirPo...</td>\n",
              "      <td>Positive</td>\n",
              "    </tr>\n",
              "    <tr>\n",
              "      <th>5</th>\n",
              "      <td>Reviewed in India on 28 July 2024</td>\n",
              "      <td>Sukhpreet Singh</td>\n",
              "      <td>5.0 out of 5 stars</td>\n",
              "      <td>UNPOPULAR OPINION: THE BEST AIRPODS TO DATE.</td>\n",
              "      <td>Are you satisfied with airpods 2 with fit and ...</td>\n",
              "      <td>Positive</td>\n",
              "    </tr>\n",
              "    <tr>\n",
              "      <th>6</th>\n",
              "      <td>Reviewed in India on 31 October 2023</td>\n",
              "      <td>DR AJIT THOMAS</td>\n",
              "      <td>1.0 out of 5 stars</td>\n",
              "      <td>4.0 out of 5 stars</td>\n",
              "      <td>I can't believe this doesn't have active noise...</td>\n",
              "      <td>Negative</td>\n",
              "    </tr>\n",
              "    <tr>\n",
              "      <th>7</th>\n",
              "      <td>Reviewed in India on 21 November 2023</td>\n",
              "      <td>Vishwa</td>\n",
              "      <td>5.0 out of 5 stars</td>\n",
              "      <td></td>\n",
              "      <td>All Good</td>\n",
              "      <td>Positive</td>\n",
              "    </tr>\n",
              "    <tr>\n",
              "      <th>8</th>\n",
              "      <td>Reviewed in India on 12 May 2024</td>\n",
              "      <td>San</td>\n",
              "      <td>5.0 out of 5 stars</td>\n",
              "      <td>Great with Apple eco system</td>\n",
              "      <td>The AirPods Gen 3 has a notable upgrade, deliv...</td>\n",
              "      <td>Positive</td>\n",
              "    </tr>\n",
              "    <tr>\n",
              "      <th>9</th>\n",
              "      <td>Reviewed in India on 16 November 2023</td>\n",
              "      <td>Varun Narayan</td>\n",
              "      <td>5.0 out of 5 stars</td>\n",
              "      <td>5.0 out of 5 stars</td>\n",
              "      <td>This product has an excellent sound quality an...</td>\n",
              "      <td>Positive</td>\n",
              "    </tr>\n",
              "  </tbody>\n",
              "</table>\n",
              "</div>"
            ],
            "text/plain": [
              "                          Date of Review    Customer Name     Customer Rating  \\\n",
              "0      Reviewed in India on 25 July 2024    RIZWAN SHAIKH  5.0 out of 5 stars   \n",
              "1    Reviewed in India on 2 October 2023    RIZWAN SHAIKH  5.0 out of 5 stars   \n",
              "2       Reviewed in India on 26 May 2022            Peter  5.0 out of 5 stars   \n",
              "3      Reviewed in India on 27 June 2022            Peter  5.0 out of 5 stars   \n",
              "4      Reviewed in India on 15 July 2024         Phutanen  4.0 out of 5 stars   \n",
              "5      Reviewed in India on 28 July 2024  Sukhpreet Singh  5.0 out of 5 stars   \n",
              "6   Reviewed in India on 31 October 2023  DR AJIT THOMAS   1.0 out of 5 stars   \n",
              "7  Reviewed in India on 21 November 2023           Vishwa  5.0 out of 5 stars   \n",
              "8       Reviewed in India on 12 May 2024              San  5.0 out of 5 stars   \n",
              "9  Reviewed in India on 16 November 2023    Varun Narayan  5.0 out of 5 stars   \n",
              "\n",
              "                                   Review Title  \\\n",
              "0                            5.0 out of 5 stars   \n",
              "1                                                 \n",
              "2                 Awesome product sound quality   \n",
              "3                            5.0 out of 5 stars   \n",
              "4                                                 \n",
              "5  UNPOPULAR OPINION: THE BEST AIRPODS TO DATE.   \n",
              "6                            4.0 out of 5 stars   \n",
              "7                                                 \n",
              "8                   Great with Apple eco system   \n",
              "9                            5.0 out of 5 stars   \n",
              "\n",
              "                                             Reviews     Score  \n",
              "0                                                      Neutral  \n",
              "1  \\n                    The media could not be l...   Neutral  \n",
              "2         Sound quality are awesome and nice product  Positive  \n",
              "3  Airpods max: way too expensive, bulky, and hur...  Positive  \n",
              "4  Apple has done it again with its 3rd Gen AirPo...  Positive  \n",
              "5  Are you satisfied with airpods 2 with fit and ...  Positive  \n",
              "6  I can't believe this doesn't have active noise...  Negative  \n",
              "7                                           All Good  Positive  \n",
              "8  The AirPods Gen 3 has a notable upgrade, deliv...  Positive  \n",
              "9  This product has an excellent sound quality an...  Positive  "
            ]
          },
          "execution_count": 111,
          "metadata": {},
          "output_type": "execute_result"
        }
      ],
      "source": [
        "df"
      ]
    },
    {
      "cell_type": "code",
      "execution_count": 112,
      "metadata": {
        "colab": {
          "base_uri": "https://localhost:8080/",
          "height": 285
        },
        "colab_type": "code",
        "id": "Oy_wDVd9tyKx",
        "outputId": "309d7f82-c27e-49ea-b8da-f01f6fdcccfe"
      },
      "outputs": [
        {
          "data": {
            "text/plain": [
              "<matplotlib.legend.Legend at 0x17391dfd820>"
            ]
          },
          "execution_count": 112,
          "metadata": {},
          "output_type": "execute_result"
        },
        {
          "data": {
            "image/png": "[encoded data removed]",
            "text/plain": [
              "<Figure size 640x480 with 1 Axes>"
            ]
          },
          "metadata": {},
          "output_type": "display_data"
        }
      ],
      "source": [
        "\n",
        "pie = df['Score'].value_counts().plot(kind=\"pie\", autopct='%1.1f%%', labels=['Positive', 'Negative' , 'Neutral'])   \n",
        "pie.set_title(\"Apple AirPods Pro (3rd generation)\", fontsize=18)\n",
        "Positive = mpatches.Patch(color='blue', label='Positive')\n",
        "Neutral = mpatches.Patch(color='green', label='Neutral')\n",
        "Negative = mpatches.Patch(color='orange', label='Negative')\n",
        "plt.legend(handles=[Positive,Neutral,Negative], loc='center left', bbox_to_anchor=(1, 0.5))"
      ]
    },
    {
      "cell_type": "code",
      "execution_count": null,
      "metadata": {
        "colab": {},
        "colab_type": "code",
        "id": "qxK0fv27uE6x"
      },
      "outputs": [],
      "source": []
    }
  ],
  "metadata": {
    "colab": {
      "authorship_tag": "ABX9TyOvvhVhFZcPOnrMVxp3Afld",
      "name": "Amazon Web Scraping and Sentiment Analysis.ipynb",
      "provenance": []
    },
    "kernelspec": {
      "display_name": "Python 3",
      "name": "python3"
    },
    "language_info": {
      "codemirror_mode": {
        "name": "ipython",
        "version": 3
      },
      "file_extension": ".py",
      "mimetype": "text/x-python",
      "name": "python",
      "nbconvert_exporter": "python",
      "pygments_lexer": "ipython3",
      "version": "3.12.3"
    }
  },
  "nbformat": 4,
  "nbformat_minor": 0
}
